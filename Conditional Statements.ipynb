{
 "cells": [
  {
   "cell_type": "code",
   "execution_count": 1,
   "metadata": {},
   "outputs": [
    {
     "name": "stdout",
     "output_type": "stream",
     "text": [
      "Enter a Number17\n",
      "17 <class 'int'>\n",
      "Odd Number\n"
     ]
    }
   ],
   "source": [
    "num=eval(input(\"Enter a Number\"))\n",
    "print(num,type(num))\n",
    "if num%2==0:\n",
    "    print(\"Even Number\")\n",
    "else:\n",
    "    print(\"Odd Number\")"
   ]
  },
  {
   "cell_type": "code",
   "execution_count": 1,
   "metadata": {},
   "outputs": [
    {
     "name": "stdout",
     "output_type": "stream",
     "text": [
      "Enter Your anything7\n",
      "7\n"
     ]
    }
   ],
   "source": [
    "num=eval(input(\"Enter Your anything\"))\n",
    "print(num)"
   ]
  },
  {
   "cell_type": "code",
   "execution_count": 3,
   "metadata": {},
   "outputs": [
    {
     "name": "stdout",
     "output_type": "stream",
     "text": [
      "Enter the chare\n",
      "vowels\n"
     ]
    }
   ],
   "source": [
    "char =input(\"Enter the char\")\n",
    "vowels=['a','e','i','o','u']\n",
    "if char in vowels:\n",
    "    print(\"vowels\")\n",
    "else:\n",
    "    print(\"alphabet\")"
   ]
  },
  {
   "cell_type": "code",
   "execution_count": 16,
   "metadata": {},
   "outputs": [
    {
     "name": "stdout",
     "output_type": "stream",
     "text": [
      "Enter Your Anual Income:3200000\n",
      "You have to give 5% Tax i.e :-  160000.0\n"
     ]
    }
   ],
   "source": [
    "income=eval(input(\"Enter Your Anual Income:\"))\n",
    "if income <= 250000:\n",
    "    print(\"You are Tax free, Enjoy your life :)\")\n",
    "elif income < 250001 or income > 500000:\n",
    "    print(\"You have to give 5% Tax i.e :- \",(income/100)*5)\n",
    "elif income < 500001 or income > 1000000:\n",
    "    print(\"You have to give 20% Tax i.e :- \",(income/100)*20)\n",
    "else:\n",
    "    print(\"You have to give 30% Tax i.e :- \",(income/100)*30)\n"
   ]
  },
  {
   "cell_type": "code",
   "execution_count": null,
   "metadata": {},
   "outputs": [],
   "source": [
    "zero => False,0,[].\"\",{}\n",
    "Non zero => True "
   ]
  },
  {
   "cell_type": "code",
   "execution_count": 20,
   "metadata": {},
   "outputs": [
    {
     "name": "stdout",
     "output_type": "stream",
     "text": [
      "12\n",
      "Not a perfect number\n"
     ]
    }
   ],
   "source": [
    "num = 6\n",
    "sum=0\n",
    "divisors=[1,2,3,4,5,6]\n",
    "for value in divisors:\n",
    "    if num % value ==0:\n",
    "        sum =sum+value\n",
    "print(sum)\n",
    "if num==sum:\n",
    "    print(\"Perfect number\")\n",
    "else:\n",
    "    print(\"Not a perfect number\")"
   ]
  },
  {
   "cell_type": "code",
   "execution_count": 25,
   "metadata": {},
   "outputs": [
    {
     "name": "stdout",
     "output_type": "stream",
     "text": [
      "0 5 10 15 20 25 30 35 40 45 50 "
     ]
    }
   ],
   "source": [
    "for i in range(0,55,5):\n",
    "    print(i,end=\" \")"
   ]
  },
  {
   "cell_type": "code",
   "execution_count": 31,
   "metadata": {},
   "outputs": [
    {
     "name": "stdout",
     "output_type": "stream",
     "text": [
      "Enter any Number for perfect Number6\n",
      "12\n",
      "Not perfect NUmber\n"
     ]
    }
   ],
   "source": [
    "num=int(input(\"Enter any Number for perfect Number\"))\n",
    "sum=0\n",
    "for i in range(1,num+1):\n",
    "     if num%i==0:\n",
    "       sum=sum+i\n",
    "print(sum)\n",
    "if num==sum:\n",
    "    print(\"Perfect Number\")\n",
    "else:\n",
    "    print(\"Not perfect NUmber\")"
   ]
  },
  {
   "cell_type": "code",
   "execution_count": 34,
   "metadata": {},
   "outputs": [
    {
     "name": "stdout",
     "output_type": "stream",
     "text": [
      "Enter Number50\n",
      "10\n",
      "20\n",
      "30\n",
      "40\n",
      "50\n",
      "Elements is present\n"
     ]
    }
   ],
   "source": [
    "##Lenear search\n",
    "item=int(input(\"Enter Number\"))\n",
    "l=[10,20,30,40,50,60,70,80,90]\n",
    "flag=0\n",
    "for i in l:\n",
    "    print(i)\n",
    "    if item==i:\n",
    "        flag =1\n",
    "        break\n",
    "    else:\n",
    "        continue\n",
    "if flag:\n",
    "    print(\"Elements is present\")\n",
    "else:\n",
    "    print(\"Element is not present\")"
   ]
  },
  {
   "cell_type": "code",
   "execution_count": 37,
   "metadata": {},
   "outputs": [
    {
     "name": "stdout",
     "output_type": "stream",
     "text": [
      "Enter Number50\n",
      "4 Elements is present\n"
     ]
    }
   ],
   "source": [
    "item=int(input(\"Enter Number\"))\n",
    "l=[10,20,30,40,50,60,70,80,90]\n",
    "for index,i in enumerate(l):\n",
    "    #print(i)\n",
    "    if item==i:\n",
    "        print(index,\"Elements is present\")   \n",
    "        break\n",
    "else:\n",
    "    print(\"Elements is not present\")"
   ]
  },
  {
   "cell_type": "code",
   "execution_count": 36,
   "metadata": {},
   "outputs": [
    {
     "name": "stdout",
     "output_type": "stream",
     "text": [
      "0 10\n",
      "1 20\n",
      "2 30\n",
      "3 40\n",
      "4 50\n",
      "5 60\n",
      "6 70\n",
      "7 80\n"
     ]
    }
   ],
   "source": [
    "l=[10,20,30,40,50,60,70,80]\n",
    "for index,value in enumerate(l):\n",
    "    print(index,value)"
   ]
  },
  {
   "cell_type": "code",
   "execution_count": 41,
   "metadata": {},
   "outputs": [
    {
     "name": "stdout",
     "output_type": "stream",
     "text": [
      "Even Number: 100\n",
      "Odd Number: 3375\n",
      "Even Number: 400\n",
      "Odd Number: 15625\n",
      "Even Number: 900\n",
      "Odd Number: 91125\n"
     ]
    }
   ],
   "source": [
    " l=[10,15,20,25,30,45]\n",
    "for i in l:\n",
    "    if i%2==0:\n",
    "        print(\"Even Number:\",i*i)\n",
    "    else:\n",
    "        print(\"Odd Number:\",i*i*i)"
   ]
  },
  {
   "cell_type": "code",
   "execution_count": null,
   "metadata": {},
   "outputs": [],
   "source": []
  }
 ],
 "metadata": {
  "kernelspec": {
   "display_name": "Python 3",
   "language": "python",
   "name": "python3"
  },
  "language_info": {
   "codemirror_mode": {
    "name": "ipython",
    "version": 3
   },
   "file_extension": ".py",
   "mimetype": "text/x-python",
   "name": "python",
   "nbconvert_exporter": "python",
   "pygments_lexer": "ipython3",
   "version": "3.7.4"
  }
 },
 "nbformat": 4,
 "nbformat_minor": 2
}
