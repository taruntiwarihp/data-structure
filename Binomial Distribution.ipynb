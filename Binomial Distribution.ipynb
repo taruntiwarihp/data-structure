{
 "cells": [
  {
   "cell_type": "code",
   "execution_count": 1,
   "metadata": {},
   "outputs": [],
   "source": [
    "from scipy import stats"
   ]
  },
  {
   "cell_type": "markdown",
   "metadata": {},
   "source": [
    "#### To generate some random numbers from binomial distribution"
   ]
  },
  {
   "cell_type": "code",
   "execution_count": 43,
   "metadata": {},
   "outputs": [
    {
     "data": {
      "text/plain": [
       "array([4, 5, 3, 5, 5, 6, 7, 6, 5, 4, 5, 8, 6, 8, 5, 3, 4, 2, 7, 9, 3, 6,\n",
       "       6, 6, 5, 5, 5, 7, 7, 3, 3, 4, 5, 3, 4, 5, 5, 8, 6, 5, 4, 4, 6, 4,\n",
       "       7, 4, 4, 3, 8, 4, 4, 2, 2, 4, 6, 3, 4, 4, 8, 4, 7, 5, 7, 6, 4, 6,\n",
       "       6, 5, 2, 5, 4, 6, 5, 5, 2, 6, 4, 5, 3, 5, 1, 6, 3, 4, 3, 5, 6, 3,\n",
       "       4, 3, 5, 5, 4, 5, 6, 6, 4, 4, 4, 3])"
      ]
     },
     "execution_count": 43,
     "metadata": {},
     "output_type": "execute_result"
    }
   ],
   "source": [
    "data_binom = stats.binom.rvs(n=10,p=0.5,size=100)\n",
    "data_binom"
   ]
  },
  {
   "cell_type": "code",
   "execution_count": 50,
   "metadata": {},
   "outputs": [
    {
     "name": "stdout",
     "output_type": "stream",
     "text": [
      "Mean of generated data is:  4.79 \n",
      "\n",
      "Variance of generated data is:  2.4459\n"
     ]
    }
   ],
   "source": [
    "print('Mean of generated data is: ',data_binom.mean(),'\\n')\n",
    "print('Variance of generated data is: ',data_binom.var())"
   ]
  },
  {
   "cell_type": "code",
   "execution_count": 49,
   "metadata": {},
   "outputs": [
    {
     "name": "stdout",
     "output_type": "stream",
     "text": [
      "Theoritical mean of generated data is: 5.0 \n",
      "\n",
      "Theoritical variance of generated data is:  2.5\n"
     ]
    }
   ],
   "source": [
    "n=10\n",
    "p=0.5\n",
    "print('Theoritical mean of generated data is:',n*p,'\\n')\n",
    "print('Theoritical variance of generated data is: ',n*p*(1-p))"
   ]
  },
  {
   "cell_type": "markdown",
   "metadata": {},
   "source": [
    "#### Making results reproducible"
   ]
  },
  {
   "cell_type": "code",
   "execution_count": 51,
   "metadata": {},
   "outputs": [
    {
     "name": "stdout",
     "output_type": "stream",
     "text": [
      "[3 6 4 5 2 7 7 2 8 3 4 5 7 7 1 5 5 5 6 3 6 2 3 3 4 6 5 6 4 6 6 4 4 8 6 8 6\n",
      " 6 5 5 5 9 4 8 5 5 5 4 5 2 3 6 6 2 4 4 3 5 5 2 5 6 3 4 6 5 5 5 7 5 5 5 5 7\n",
      " 4 7 3 5 2 6 6 7 7 5 6 7 5 4 4 4 8 5 8 7 6 1 7 7 1 6]\n",
      "5.01\n",
      "3.0299\n"
     ]
    }
   ],
   "source": [
    "# random_stat argument  inside stats.binom.rvs() function\n",
    "data_binom = stats.binom.rvs(n,p,size=100,random_state=12)\n",
    "print(data_binom)\n",
    "\n",
    "print(data_binom.mean())\n",
    "\n",
    "print(data_binom.var())\n"
   ]
  },
  {
   "cell_type": "code",
   "execution_count": 52,
   "metadata": {},
   "outputs": [
    {
     "name": "stdout",
     "output_type": "stream",
     "text": [
      "[3 6 4 5 2 7 7 2 8 3 4 5 7 7 1 5 5 5 6 3 6 2 3 3 4 6 5 6 4 6 6 4 4 8 6 8 6\n",
      " 6 5 5 5 9 4 8 5 5 5 4 5 2 3 6 6 2 4 4 3 5 5 2 5 6 3 4 6 5 5 5 7 5 5 5 5 7\n",
      " 4 7 3 5 2 6 6 7 7 5 6 7 5 4 4 4 8 5 8 7 6 1 7 7 1 6]\n",
      "5.01\n",
      "3.0299\n"
     ]
    }
   ],
   "source": [
    "# from numpy use random.seed() function\n",
    "import numpy as np\n",
    "np.random.seed(12)\n",
    "\n",
    "data_binom = stats.binom.rvs(n,p,size=100)\n",
    "print(data_binom)\n",
    "\n",
    "print(data_binom.mean())\n",
    "\n",
    "print(data_binom.var())\n"
   ]
  },
  {
   "cell_type": "markdown",
   "metadata": {},
   "source": [
    "#### Visualize binomial distribution"
   ]
  },
  {
   "cell_type": "code",
   "execution_count": 58,
   "metadata": {},
   "outputs": [
    {
     "data": {
      "image/png": "[encoded data removed]",
      "text/plain": [
       "<Figure size 432x288 with 1 Axes>"
      ]
     },
     "metadata": {
      "needs_background": "light"
     },
     "output_type": "display_data"
    }
   ],
   "source": [
    "import seaborn as sns\n",
    "import matplotlib.pyplot as plt\n",
    "\n",
    "n=100\n",
    "p=0.8\n",
    "data_binom = stats.binom.rvs(n,p,size=100)\n",
    "\n",
    "\n",
    "sns.distplot(data_binom, color='red',kde=False)\n",
    "plt.title('Binomial Distribution')\n",
    "plt.xlabel('Random Binomial Variate')\n",
    "plt.ylabel('Frequency')\n",
    "plt.show()"
   ]
  },
  {
   "cell_type": "markdown",
   "metadata": {},
   "source": [
    "#### To compute probabilities  using binomial distribution"
   ]
  },
  {
   "cell_type": "code",
   "execution_count": 61,
   "metadata": {},
   "outputs": [
    {
     "name": "stdout",
     "output_type": "stream",
     "text": [
      "Required probability is  0.2\n"
     ]
    }
   ],
   "source": [
    "# TO find the prob of getting 7 heads is a toss of 15 fair coins.\n",
    "# probalility mass function\n",
    "n =15\n",
    "p=0.5 #[For fair coin, prob of getting head is 0.5]\n",
    "k = 7\n",
    "print('Required probability is ',stats.binom.pmf(k,n,p).round(2))"
   ]
  },
  {
   "cell_type": "code",
   "execution_count": 62,
   "metadata": {},
   "outputs": [
    {
     "name": "stdout",
     "output_type": "stream",
     "text": [
      "Required probability is  0.5\n"
     ]
    }
   ],
   "source": [
    "# TO find the prob of getting ATLEAST 7 heads is a toss of 15 fair coins.\n",
    "# Cumulative distribution function\n",
    "#cdf \n",
    "# stats.binom.cdf(k, n, p).round(2)\n",
    "# stats.binom.pmf(k, n, p).round(2)\n",
    "\n",
    "\n",
    "n =15\n",
    "p=0.5 #[For fair coin, prob of getting head is 0.5]\n",
    "k = 7\n",
    "print('Required probability is ',stats.binom.cdf(k,n,p).round(2))"
   ]
  },
  {
   "cell_type": "code",
   "execution_count": 63,
   "metadata": {},
   "outputs": [
    {
     "ename": "SyntaxError",
     "evalue": "invalid syntax (<ipython-input-63-0e6bf6a9e39a>, line 9)",
     "output_type": "error",
     "traceback": [
      "\u001b[1;36m  File \u001b[1;32m\"<ipython-input-63-0e6bf6a9e39a>\"\u001b[1;36m, line \u001b[1;32m9\u001b[0m\n\u001b[1;33m    print 'p-value: {}'.format(res[0][0])\u001b[0m\n\u001b[1;37m                      ^\u001b[0m\n\u001b[1;31mSyntaxError\u001b[0m\u001b[1;31m:\u001b[0m invalid syntax\n"
     ]
    }
   ],
   "source": [
    "import numpy as np\n",
    "import rpy2.robjects.numpy2ri\n",
    "from rpy2.robjects.packages import importr\n",
    "rpy2.robjects.numpy2ri.activate()\n",
    "\n",
    "stats = importr('stats')\n",
    "m = np.array([[4,4],[4,5],[10,6]])\n",
    "res = stats.fisher_test(m)\n",
    "print 'p-value: {}'.format(res[0][0])\n",
    ">> p-value: 0.668165917041"
   ]
  },
  {
   "cell_type": "code",
   "execution_count": null,
   "metadata": {},
   "outputs": [],
   "source": []
  }
 ],
 "metadata": {
  "kernelspec": {
   "display_name": "Python 3",
   "language": "python",
   "name": "python3"
  },
  "language_info": {
   "codemirror_mode": {
    "name": "ipython",
    "version": 3
   },
   "file_extension": ".py",
   "mimetype": "text/x-python",
   "name": "python",
   "nbconvert_exporter": "python",
   "pygments_lexer": "ipython3",
   "version": "3.7.4"
  },
  "varInspector": {
   "cols": {
    "lenName": 16,
    "lenType": 16,
    "lenVar": 40
   },
   "kernels_config": {
    "python": {
     "delete_cmd_postfix": "",
     "delete_cmd_prefix": "del ",
     "library": "var_list.py",
     "varRefreshCmd": "print(var_dic_list())"
    },
    "r": {
     "delete_cmd_postfix": ") ",
     "delete_cmd_prefix": "rm(",
     "library": "var_list.r",
     "varRefreshCmd": "cat(var_dic_list()) "
    }
   },
   "types_to_exclude": [
    "module",
    "function",
    "builtin_function_or_method",
    "instance",
    "_Feature"
   ],
   "window_display": false
  }
 },
 "nbformat": 4,
 "nbformat_minor": 2
}
