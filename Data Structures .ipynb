{
 "cells": [
  {
   "cell_type": "code",
   "execution_count": 12,
   "metadata": {},
   "outputs": [
    {
     "name": "stdout",
     "output_type": "stream",
     "text": [
      "50 element inserted\n",
      "100 element inserted\n",
      "150 element inserted\n",
      "Head [ 1900804632928 ]->\n",
      "[ 50 | 1900804633312 ] ->[ 100 | 1900804721584 ] ->[ 150 | 140719967115392 ] ->Tail [ 1900804721584 ]\n"
     ]
    }
   ],
   "source": [
    "# linked list\n",
    "class node:\n",
    "    def __init__(self,data,link=None):\n",
    "        self.data = data\n",
    "        self.link = link\n",
    "class LinkedList:\n",
    "    def __init__(self):\n",
    "        self.head = None\n",
    "        self.tail = None\n",
    "    \n",
    "    def is_empty(self):\n",
    "        if self.head == None :\n",
    "            return True\n",
    "        \n",
    "    def append(self,value):\n",
    "        new_node = node(value)\n",
    "        if self.is_empty():\n",
    "            self.head = new_node\n",
    "            self.tail = new_node\n",
    "        else:\n",
    "            last_node = self.tail\n",
    "            last_node.link = new_node\n",
    "            self.tail = new_node\n",
    "        print(value,\"element inserted\")\n",
    "    \n",
    "    def printlist(self):\n",
    "        temp = self.head\n",
    "        print('Head [',id(self.head),']->')\n",
    "        while temp!=None:\n",
    "            print('[',temp.data,'|',id(temp.link),'] ->',end='')\n",
    "            temp = temp.link\n",
    "        print('Tail [',id(self.tail),']')\n",
    "\n",
    "            \n",
    "obj_linked_list = LinkedList()\n",
    "obj_linked_list.append(50)\n",
    "obj_linked_list.append(100)\n",
    "obj_linked_list.append(150)\n",
    "\n",
    "obj_linked_list.printlist()"
   ]
  },
  {
   "cell_type": "code",
   "execution_count": null,
   "metadata": {},
   "outputs": [],
   "source": []
  }
 ],
 "metadata": {
  "kernelspec": {
   "display_name": "Python 3",
   "language": "python",
   "name": "python3"
  },
  "language_info": {
   "codemirror_mode": {
    "name": "ipython",
    "version": 3
   },
   "file_extension": ".py",
   "mimetype": "text/x-python",
   "name": "python",
   "nbconvert_exporter": "python",
   "pygments_lexer": "ipython3",
   "version": "3.8.0"
  },
  "varInspector": {
   "cols": {
    "lenName": 16,
    "lenType": 16,
    "lenVar": 40
   },
   "kernels_config": {
    "python": {
     "delete_cmd_postfix": "",
     "delete_cmd_prefix": "del ",
     "library": "var_list.py",
     "varRefreshCmd": "print(var_dic_list())"
    },
    "r": {
     "delete_cmd_postfix": ") ",
     "delete_cmd_prefix": "rm(",
     "library": "var_list.r",
     "varRefreshCmd": "cat(var_dic_list()) "
    }
   },
   "types_to_exclude": [
    "module",
    "function",
    "builtin_function_or_method",
    "instance",
    "_Feature"
   ],
   "window_display": false
  }
 },
 "nbformat": 4,
 "nbformat_minor": 4
}
